{
 "cells": [
  {
   "cell_type": "code",
   "execution_count": 1,
   "id": "19d774f7-9cc6-4ea0-98c7-5415f46fdd53",
   "metadata": {},
   "outputs": [],
   "source": [
    "\n",
    "from sklearn.model_selection import cross_val_score\n",
    "from sklearn.linear_model import LinearRegression\n",
    "from sklearn.datasets import fetch_california_housing \n",
    "from sklearn.model_selection import train_test_split\n"
   ]
  },
  {
   "cell_type": "code",
   "execution_count": 2,
   "id": "18f8d015-a863-4546-8f30-a34ed5c1ea76",
   "metadata": {},
   "outputs": [],
   "source": [
    "\n",
    "data = fetch_california_housing()\n",
    "X = data['data']  \n",
    "y = data['target']  \n"
   ]
  },
  {
   "cell_type": "code",
   "execution_count": 3,
   "id": "5289efc2-153e-42c6-8736-8f40e29816eb",
   "metadata": {},
   "outputs": [],
   "source": [
    "model = LinearRegression()"
   ]
  },
  {
   "cell_type": "code",
   "execution_count": 4,
   "id": "973d305b-76d5-4331-9dd1-8e16e376f14e",
   "metadata": {},
   "outputs": [],
   "source": [
    "scores = cross_val_score(model, X, y, cv=5, scoring=\"r2\") "
   ]
  },
  {
   "cell_type": "code",
   "execution_count": 5,
   "id": "f4315c8c-ddb2-48ad-800e-7570535cde1d",
   "metadata": {},
   "outputs": [
    {
     "name": "stdout",
     "output_type": "stream",
     "text": [
      "Cross-validation scores for each fold: [0.54866323 0.46820691 0.55078434 0.53698703 0.66051406]\n"
     ]
    }
   ],
   "source": [
    "\n",
    "print(\"Cross-validation scores for each fold:\", scores)\n"
   ]
  },
  {
   "cell_type": "code",
   "execution_count": 6,
   "id": "a0d1fdf5-bc41-4ae0-b8fd-64eb57ce7365",
   "metadata": {},
   "outputs": [
    {
     "name": "stdout",
     "output_type": "stream",
     "text": [
      "Average R² score: 0.5530311140279227\n"
     ]
    }
   ],
   "source": [
    "\n",
    "print(\"Average R² score:\", scores.mean())\n"
   ]
  }
 ],
 "metadata": {
  "kernelspec": {
   "display_name": "Python 3 (ipykernel)",
   "language": "python",
   "name": "python3"
  },
  "language_info": {
   "codemirror_mode": {
    "name": "ipython",
    "version": 3
   },
   "file_extension": ".py",
   "mimetype": "text/x-python",
   "name": "python",
   "nbconvert_exporter": "python",
   "pygments_lexer": "ipython3",
   "version": "3.11.7"
  }
 },
 "nbformat": 4,
 "nbformat_minor": 5
}
